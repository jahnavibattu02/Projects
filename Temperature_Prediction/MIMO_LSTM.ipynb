{
  "cells": [
    {
      "cell_type": "markdown",
      "metadata": {
        "id": "M4GZm0l5UYWq"
      },
      "source": [
        "## Import required libraries and Load the data"
      ]
    },
    {
      "cell_type": "code",
      "source": [
        "!pip install ipython-autotime --quiet"
      ],
      "metadata": {
        "id": "HHqIm0xST8nn"
      },
      "execution_count": null,
      "outputs": []
    },
    {
      "cell_type": "code",
      "source": [
        "%load_ext autotime\n",
        "import numpy as np\n",
        "import pandas as pd\n",
        "import seaborn as sns\n",
        "import matplotlib.pyplot as plt\n",
        "import plotly.express as px\n",
        "import xarray as xr\n",
        "\n",
        "import warnings\n",
        "warnings.filterwarnings('ignore')"
      ],
      "metadata": {
        "id": "YsNt5v_6EzE9",
        "outputId": "6c6ce0d1-ad40-45a3-99dd-c673201eb921",
        "colab": {
          "base_uri": "https://localhost:8080/"
        }
      },
      "execution_count": null,
      "outputs": [
        {
          "output_type": "stream",
          "name": "stdout",
          "text": [
            "time: 2.06 s (started: 2022-07-26 05:13:02 +00:00)\n"
          ]
        }
      ]
    },
    {
      "cell_type": "code",
      "source": [
        "data = xr.open_dataset('/conten')"
      ],
      "metadata": {
        "id": "SgxMjcrj7GpD"
      },
      "execution_count": null,
      "outputs": []
    },
    {
      "cell_type": "code",
      "execution_count": null,
      "metadata": {
        "id": "d5Jxdp6yUn_U"
      },
      "outputs": [],
      "source": [
        "%load_ext google.colab.data_table\n",
        "data = pd.read_csv('/content/output_1.csv') #address to your data file.\n",
        "data.head()"
      ]
    },
    {
      "cell_type": "code",
      "execution_count": null,
      "metadata": {
        "id": "w0a5FtzQVaNi"
      },
      "outputs": [],
      "source": [
        "data['date'] = pd.to_datetime(data['date'])\n",
        "data.index = data['date']\n",
        "data.head()"
      ]
    },
    {
      "cell_type": "code",
      "execution_count": null,
      "metadata": {
        "id": "WioiM-5MViFZ"
      },
      "outputs": [],
      "source": [
        "data.shape"
      ]
    },
    {
      "cell_type": "code",
      "execution_count": null,
      "metadata": {
        "id": "IfeREZnLVpOG"
      },
      "outputs": [],
      "source": [
        "data.columns"
      ]
    },
    {
      "cell_type": "code",
      "execution_count": null,
      "metadata": {
        "id": "61OJSyH5Vw4G"
      },
      "outputs": [],
      "source": [
        "data.info()"
      ]
    },
    {
      "cell_type": "markdown",
      "metadata": {
        "id": "HIa5pBkEVs0t"
      },
      "source": [
        "## Exploratory data analysis"
      ]
    },
    {
      "cell_type": "code",
      "execution_count": null,
      "metadata": {
        "id": "JwNk0Kx7VzmQ"
      },
      "outputs": [],
      "source": [
        "data.describe()"
      ]
    },
    {
      "cell_type": "code",
      "execution_count": null,
      "metadata": {
        "id": "JyPyXNPqV6wX"
      },
      "outputs": [],
      "source": [
        "import plotly.express as px\n",
        "import matplotlib\n",
        "import matplotlib.pyplot as plt\n",
        "import seaborn as sns\n",
        "%matplotlib inline\n",
        "#Customize the graphs or plots\n",
        "sns.set_style('darkgrid')\n",
        "matplotlib.rcParams['font.size'] = 10\n",
        "matplotlib.rcParams['figure.figsize'] = (15,4)\n",
        "matplotlib.rcParams['figure.facecolor'] = '#0000000F'"
      ]
    },
    {
      "cell_type": "markdown",
      "metadata": {
        "id": "Sf1e5hloWvsb"
      },
      "source": [
        "## Splitting the data "
      ]
    },
    {
      "cell_type": "code",
      "execution_count": null,
      "metadata": {
        "id": "tkruuCBuWywW"
      },
      "outputs": [],
      "source": [
        "data['Year'] = data['date'].dt.year"
      ]
    },
    {
      "cell_type": "code",
      "execution_count": null,
      "metadata": {
        "id": "a60PMLdIW1VJ"
      },
      "outputs": [],
      "source": [
        "data.head()"
      ]
    },
    {
      "cell_type": "code",
      "execution_count": null,
      "metadata": {
        "id": "HCQMYhaeW45q"
      },
      "outputs": [],
      "source": [
        "plt.title('No. of Observations per Year')\n",
        "sns.countplot(x = data.Year);"
      ]
    },
    {
      "cell_type": "code",
      "execution_count": null,
      "metadata": {
        "id": "LZcf1n96W8RK"
      },
      "outputs": [],
      "source": [
        "data.drop(['Year','date',],axis=1,inplace=True)\n",
        "data.head()"
      ]
    },
    {
      "cell_type": "code",
      "execution_count": null,
      "metadata": {
        "id": "u4SSkwEmewTa"
      },
      "outputs": [],
      "source": [
        "data.isna().sum()"
      ]
    },
    {
      "cell_type": "code",
      "execution_count": null,
      "metadata": {
        "id": "vxZa-kuJXVCo"
      },
      "outputs": [],
      "source": [
        "data = data.replace(0,np.nan)\n",
        "data.isna().sum()"
      ]
    },
    {
      "cell_type": "code",
      "execution_count": null,
      "metadata": {
        "id": "yeRwiFqGX1Qn"
      },
      "outputs": [],
      "source": [
        "train = data[0:int(data.shape[0]*0.8)].copy()\n",
        "train.tail()"
      ]
    },
    {
      "cell_type": "code",
      "execution_count": null,
      "metadata": {
        "id": "97158-H1X47m"
      },
      "outputs": [],
      "source": [
        "test = data[int(data.shape[0]*0.8):].copy()\n",
        "test.head()"
      ]
    },
    {
      "cell_type": "code",
      "execution_count": null,
      "metadata": {
        "id": "vxoodX4AX70w"
      },
      "outputs": [],
      "source": [
        "print(train.shape)\n",
        "print(test.shape)"
      ]
    },
    {
      "cell_type": "markdown",
      "metadata": {
        "id": "ldnguq6qYM6N"
      },
      "source": [
        "## Data Normalization"
      ]
    },
    {
      "cell_type": "code",
      "execution_count": null,
      "metadata": {
        "id": "buGkaBrWYQoV"
      },
      "outputs": [],
      "source": [
        "from sklearn.preprocessing import MinMaxScaler\n",
        "scaler = MinMaxScaler().fit(train)\n",
        "train = scaler.transform(train)"
      ]
    },
    {
      "cell_type": "markdown",
      "metadata": {
        "id": "pjOFpga8YWOC"
      },
      "source": [
        "## Dividing the data into timeshifts"
      ]
    },
    {
      "cell_type": "code",
      "execution_count": null,
      "metadata": {
        "id": "80ube8FvYZdZ"
      },
      "outputs": [],
      "source": [
        "#Create two empty lists x_train and y_train\n",
        "X_train = []\n",
        "y_train = []"
      ]
    },
    {
      "cell_type": "code",
      "execution_count": null,
      "metadata": {
        "id": "CFeav_uIxaW-"
      },
      "outputs": [],
      "source": [
        "n = train.shape[1] // 7 # step to find number of locations dynamically.\n",
        "target_list = []\n",
        "for i in range(n):\n",
        "  index_no = data.columns.get_loc('t2m_{}'.format(i))\n",
        "  target_list.append(index_no)"
      ]
    },
    {
      "cell_type": "code",
      "execution_count": null,
      "metadata": {
        "id": "qcgrboNMYdFq"
      },
      "outputs": [],
      "source": [
        "for i in range(7, train.shape[0]):\n",
        "  X_train.append(train[i-7:i])\n",
        "  y_train.append(train[i,target_list])"
      ]
    },
    {
      "cell_type": "code",
      "execution_count": null,
      "metadata": {
        "id": "RqciQQ9EYe4k"
      },
      "outputs": [],
      "source": [
        "#Converting Lists into numpy arrays\n",
        "X_train = np.array(X_train) \n",
        "y_train =  np.array(y_train)"
      ]
    },
    {
      "cell_type": "code",
      "execution_count": null,
      "metadata": {
        "id": "Ct7jKcbmYgp9"
      },
      "outputs": [],
      "source": [
        "X_train.shape, y_train.shape"
      ]
    },
    {
      "cell_type": "markdown",
      "metadata": {
        "id": "tFq6uetAd1Mm"
      },
      "source": [
        "## Build the Model"
      ]
    },
    {
      "cell_type": "code",
      "execution_count": null,
      "metadata": {
        "id": "iCFNqRgZ4hVB"
      },
      "outputs": [],
      "source": [
        "np.random.seed(1337)"
      ]
    },
    {
      "cell_type": "code",
      "execution_count": null,
      "metadata": {
        "id": "ErUvpAtKd7Vz"
      },
      "outputs": [],
      "source": [
        "#Import libraries\n",
        "import tensorflow.keras as keras\n",
        "from tensorflow.keras import Sequential\n",
        "from tensorflow.keras.layers import LSTM,Dense,Dropout"
      ]
    },
    {
      "cell_type": "code",
      "source": [
        "X_train.shape[1],X_train.shape[2]"
      ],
      "metadata": {
        "id": "U1WaUPZeBdAY"
      },
      "execution_count": null,
      "outputs": []
    },
    {
      "cell_type": "code",
      "execution_count": null,
      "metadata": {
        "id": "7j8IdTikeANt"
      },
      "outputs": [],
      "source": [
        "model = Sequential()\n",
        "model.add(LSTM(100 , return_sequences= True , activation='relu', input_shape = (X_train.shape[1],X_train.shape[2]) , kernel_regularizer= keras.regularizers.l2(0.001))) \n",
        "model.add(Dropout(0.3)) # Add a dropout layer in order to avoid overfitting.\n",
        "model.add(LSTM(200, return_sequences= True)) # Hidden layer,Another Lstm layer for stacked Lstm method.\n",
        "model.add(Dropout(0.3))\n",
        "model.add(LSTM(100))\n",
        "# final Output layer.\n",
        "model.add(Dense(y_train.shape[1]))"
      ]
    },
    {
      "cell_type": "code",
      "execution_count": null,
      "metadata": {
        "id": "PRRMAH8zeJv2"
      },
      "outputs": [],
      "source": [
        "model.summary()"
      ]
    },
    {
      "cell_type": "code",
      "execution_count": null,
      "metadata": {
        "id": "mAp0pdnJeT4f"
      },
      "outputs": [],
      "source": [
        "model.compile(optimizer='adamax', loss='mse')"
      ]
    },
    {
      "cell_type": "code",
      "execution_count": null,
      "metadata": {
        "id": "c4GoH_PMeVXq"
      },
      "outputs": [],
      "source": [
        "# fitting the model with train data\n",
        "history = model.fit(X_train, y_train , epochs=25, batch_size=128)"
      ]
    },
    {
      "cell_type": "code",
      "execution_count": null,
      "metadata": {
        "id": "KylqK4zuewJC"
      },
      "outputs": [],
      "source": [
        "# plotting the loss value of each epoch\n",
        "plt.figure(figsize=(8,8))\n",
        "plt.title('Loss Function')\n",
        "plt.xlabel('No.of epochs')\n",
        "plt.ylabel('rmse')\n",
        "plt.plot(history.history['loss'])"
      ]
    },
    {
      "cell_type": "markdown",
      "metadata": {
        "id": "jtttv6See5kp"
      },
      "source": [
        "## Evaluate the Model"
      ]
    },
    {
      "cell_type": "code",
      "execution_count": null,
      "metadata": {
        "id": "y7TS4eB8e7yR"
      },
      "outputs": [],
      "source": [
        "train_preds = model.predict(X_train)"
      ]
    },
    {
      "cell_type": "code",
      "execution_count": null,
      "metadata": {
        "id": "kUj0baMYfJru"
      },
      "outputs": [],
      "source": [
        "train_preds.shape"
      ]
    },
    {
      "cell_type": "code",
      "execution_count": null,
      "metadata": {
        "id": "uby49KZrfMrx"
      },
      "outputs": [],
      "source": [
        "from math import sqrt\n",
        "from sklearn.metrics import mean_squared_error\n",
        "RMSE = np.sqrt(mean_squared_error(y_train, train_preds))\n",
        "print(round(RMSE,3))"
      ]
    },
    {
      "cell_type": "code",
      "execution_count": null,
      "metadata": {
        "id": "atE4w1F6fNy4"
      },
      "outputs": [],
      "source": [
        "from sklearn.metrics import r2_score\n",
        "Score = r2_score(y_train, train_preds)\n",
        "print(round(Score,2)*100)"
      ]
    },
    {
      "cell_type": "code",
      "execution_count": null,
      "metadata": {
        "id": "b2FrD9pwkrGy"
      },
      "outputs": [],
      "source": [
        "print(y_train[:,1])"
      ]
    },
    {
      "cell_type": "code",
      "execution_count": null,
      "metadata": {
        "id": "AzEl9bfAgPSv"
      },
      "outputs": [],
      "source": [
        "# plotting the original Vs Predicted values graphically.\n",
        "plt.figure(figsize=(30,8))\n",
        "plt.title('Original vs predicted(optimizer = adamax)')\n",
        "plt.xlabel('Over the data')\n",
        "plt.ylabel('Temperature(air_temp)')\n",
        "plt.plot(y_train)\n",
        "plt.plot(train_preds)\n",
        "plt.legend(['Original','Predicted'])\n",
        "plt.show()"
      ]
    },
    {
      "cell_type": "code",
      "execution_count": null,
      "metadata": {
        "id": "40gdunIr90br"
      },
      "outputs": [],
      "source": [
        "plt.title('Scatter plot (Test Preds vs Original)')\n",
        "plt.xlabel('Original Values')\n",
        "plt.ylabel('Predicted Values')\n",
        "plt.scatter(y_train, train_preds, alpha=0.5,c=y_train,cmap='nipy_spectral',s=y_train)\n",
        "m = 1\n",
        "plt.plot(y_train, m*y_train)\n",
        "plt.show()"
      ]
    },
    {
      "cell_type": "markdown",
      "metadata": {
        "id": "QFLuaG79grqy"
      },
      "source": [
        "## Preprocessing test data"
      ]
    },
    {
      "cell_type": "code",
      "execution_count": null,
      "metadata": {
        "id": "6hCgKoPwgvLU"
      },
      "outputs": [],
      "source": [
        "last_7_days = data[:int(data.shape[0]*0.8)].tail(7).copy()\n",
        "last_7_days"
      ]
    },
    {
      "cell_type": "code",
      "execution_count": null,
      "metadata": {
        "id": "tBZw19wZg2OQ"
      },
      "outputs": [],
      "source": [
        "test.head()"
      ]
    },
    {
      "cell_type": "code",
      "execution_count": null,
      "metadata": {
        "id": "BU3yXk0rg--U"
      },
      "outputs": [],
      "source": [
        "#Adding last 30 days of train data and test data.\n",
        "test_final = last_7_days.append(test)\n",
        "test_final.tail()"
      ]
    },
    {
      "cell_type": "code",
      "execution_count": null,
      "metadata": {
        "id": "6VY8BCz4hA4V"
      },
      "outputs": [],
      "source": [
        "#Scaling columns in the final test data.\n",
        "test_final = scaler.transform(test_final)\n",
        "test_final"
      ]
    },
    {
      "cell_type": "code",
      "execution_count": null,
      "metadata": {
        "id": "e9Ye8IUyhEo2"
      },
      "outputs": [],
      "source": [
        "#Creating two empty lists X_test and y_test\n",
        "X_test = []\n",
        "y_test = []"
      ]
    },
    {
      "cell_type": "code",
      "execution_count": null,
      "metadata": {
        "id": "STw28wAQhG7K"
      },
      "outputs": [],
      "source": [
        "for i in range(7, test_final.shape[0]):\n",
        "  X_test.append(test_final[i-7:i])\n",
        "  y_test.append(test_final[i,target_list])"
      ]
    },
    {
      "cell_type": "code",
      "execution_count": null,
      "metadata": {
        "id": "5qlMeGbdhPmA"
      },
      "outputs": [],
      "source": [
        "# converting into array.\n",
        "X_test , y_test = np.array(X_test) , np.array(y_test)"
      ]
    },
    {
      "cell_type": "code",
      "execution_count": null,
      "metadata": {
        "id": "ooPhpB18hRl8"
      },
      "outputs": [],
      "source": [
        "X_test.shape , y_test.shape"
      ]
    },
    {
      "cell_type": "markdown",
      "metadata": {
        "id": "bC87_SM8hc-S"
      },
      "source": [
        "## Making prediction on test data"
      ]
    },
    {
      "cell_type": "code",
      "execution_count": null,
      "metadata": {
        "id": "oaV1qyTIhhDe"
      },
      "outputs": [],
      "source": [
        "y_preds = model.predict(X_test)"
      ]
    },
    {
      "cell_type": "code",
      "execution_count": null,
      "metadata": {
        "id": "vCcfNTtDhkGS"
      },
      "outputs": [],
      "source": [
        "y_preds.shape"
      ]
    },
    {
      "cell_type": "markdown",
      "metadata": {
        "id": "oNOC9eIGhvz-"
      },
      "source": [
        "## Evaluating "
      ]
    },
    {
      "cell_type": "code",
      "execution_count": null,
      "metadata": {
        "id": "_NwjbbPOhuY2"
      },
      "outputs": [],
      "source": [
        "rmse = np.sqrt(mean_squared_error(y_test, y_preds))\n",
        "print(round(rmse,2))"
      ]
    },
    {
      "cell_type": "code",
      "execution_count": null,
      "metadata": {
        "id": "OagodxIPhywu"
      },
      "outputs": [],
      "source": [
        "r2_score = r2_score(y_test, y_preds)\n",
        "print(round(r2_score,2)*100)"
      ]
    },
    {
      "cell_type": "code",
      "execution_count": null,
      "metadata": {
        "id": "JehaZEAI8tcg"
      },
      "outputs": [],
      "source": [
        "# plotting the original Vs Predicted values graphically.\n",
        "plt.figure(figsize=(15,6))\n",
        "plt.rcParams.update({'font.size': 9})\n",
        "plt.title('Original vs predicted(optimizer = adamax)')\n",
        "plt.xlabel('Over the data')\n",
        "plt.ylabel('Temperature(air_temp)')\n",
        "plt.plot(y_test)\n",
        "plt.plot(y_preds)\n",
        "plt.legend(['Original','Predicted'])\n",
        "plt.show()"
      ]
    },
    {
      "cell_type": "code",
      "execution_count": null,
      "metadata": {
        "id": "iJPzHBVz82DB"
      },
      "outputs": [],
      "source": [
        "plt.title('Scatter plot (Test Preds vs Original)')\n",
        "plt.xlabel('Original Values')\n",
        "plt.ylabel('Predicted Values')\n",
        "plt.scatter(y_test, y_preds, alpha=0.5,c=y_test,cmap='nipy_spectral',s=y_test)\n",
        "m = 1\n",
        "plt.plot(y_test, m*y_test)\n",
        "plt.show()"
      ]
    }
  ],
  "metadata": {
    "colab": {
      "collapsed_sections": [],
      "provenance": []
    },
    "kernelspec": {
      "display_name": "Python 3",
      "name": "python3"
    },
    "language_info": {
      "name": "python"
    }
  },
  "nbformat": 4,
  "nbformat_minor": 0
}