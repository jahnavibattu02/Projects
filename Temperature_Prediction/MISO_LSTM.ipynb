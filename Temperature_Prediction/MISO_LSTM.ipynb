{
  "nbformat": 4,
  "nbformat_minor": 0,
  "metadata": {
    "colab": {
      "provenance": [],
      "collapsed_sections": [
        "AnPw1QNu5vc2",
        "A6OYHPuU6z4I",
        "98IGMOVY95ah",
        "UnfnD9wP_5au",
        "wOdcnvqnFWMG",
        "OGF13VGHzH1V",
        "70RbjHVRJirs",
        "68Tm-HGeBvlu"
      ]
    },
    "kernelspec": {
      "display_name": "Python 3",
      "name": "python3"
    },
    "language_info": {
      "name": "python"
    }
  },
  "cells": [
    {
      "cell_type": "markdown",
      "metadata": {
        "id": "5hv9EMjX4eiu"
      },
      "source": [
        "### Import Required libraries and Loading the data"
      ]
    },
    {
      "cell_type": "code",
      "metadata": {
        "id": "5dU6eNI64V7Q"
      },
      "source": [
        "import numpy as np\n",
        "import pandas as pd\n",
        "import seaborn as sns\n",
        "import matplotlib.pyplot as plt"
      ],
      "execution_count": null,
      "outputs": []
    },
    {
      "cell_type": "code",
      "metadata": {
        "colab": {
          "resources": {
            "http://localhost:8080/nbextensions/google.colab/files.js": {
              "data": "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",
              "ok": true,
              "headers": [
                [
                  "content-type",
                  "application/javascript"
                ]
              ],
              "status": 200,
              "status_text": ""
            }
          },
          "base_uri": "https://localhost:8080/"
        },
        "id": "TCojNrU84_lp",
        "outputId": "2229eddc-1bcc-4635-9699-0281cdc188d0"
      },
      "source": [
        "from google.colab import files\n",
        "upload = files.upload()"
      ],
      "execution_count": null,
      "outputs": [
        {
          "output_type": "display_data",
          "data": {
            "text/html": [
              "\n",
              "     <input type=\"file\" id=\"files-830f9011-5b04-4734-9c88-24642c574893\" name=\"files[]\" multiple disabled\n",
              "        style=\"border:none\" />\n",
              "     <output id=\"result-830f9011-5b04-4734-9c88-24642c574893\">\n",
              "      Upload widget is only available when the cell has been executed in the\n",
              "      current browser session. Please rerun this cell to enable.\n",
              "      </output>\n",
              "      <script src=\"/nbextensions/google.colab/files.js\"></script> "
            ],
            "text/plain": [
              "<IPython.core.display.HTML object>"
            ]
          },
          "metadata": {}
        },
        {
          "output_type": "stream",
          "name": "stdout",
          "text": [
            "Saving data1.csv to data1 (2).csv\n"
          ]
        }
      ]
    },
    {
      "cell_type": "code",
      "metadata": {
        "id": "Js3P13Ei5ntX",
        "colab": {
          "base_uri": "https://localhost:8080/"
        },
        "outputId": "bd90cb15-6937-4893-e321-99f5fb023299"
      },
      "source": [
        "data = pd.read_csv('data1.csv')\n",
        "data.head()"
      ],
      "execution_count": null,
      "outputs": [
        {
          "output_type": "execute_result",
          "data": {
            "text/html": [
              "<div>\n",
              "<style scoped>\n",
              "    .dataframe tbody tr th:only-of-type {\n",
              "        vertical-align: middle;\n",
              "    }\n",
              "\n",
              "    .dataframe tbody tr th {\n",
              "        vertical-align: top;\n",
              "    }\n",
              "\n",
              "    .dataframe thead th {\n",
              "        text-align: right;\n",
              "    }\n",
              "</style>\n",
              "<table border=\"1\" class=\"dataframe\">\n",
              "  <thead>\n",
              "    <tr style=\"text-align: right;\">\n",
              "      <th></th>\n",
              "      <th>Year</th>\n",
              "      <th>Month</th>\n",
              "      <th>Day</th>\n",
              "      <th>Hour</th>\n",
              "      <th>air_temp</th>\n",
              "      <th>windspeed</th>\n",
              "      <th>winddir</th>\n",
              "      <th>pressure</th>\n",
              "      <th>humidity</th>\n",
              "      <th>rainfall</th>\n",
              "      <th>fog</th>\n",
              "      <th>AOD</th>\n",
              "    </tr>\n",
              "  </thead>\n",
              "  <tbody>\n",
              "    <tr>\n",
              "      <th>0</th>\n",
              "      <td>2009</td>\n",
              "      <td>11</td>\n",
              "      <td>1</td>\n",
              "      <td>3</td>\n",
              "      <td>19.38</td>\n",
              "      <td>0.34</td>\n",
              "      <td>88.71</td>\n",
              "      <td>986.44</td>\n",
              "      <td>87.93</td>\n",
              "      <td>1593.0</td>\n",
              "      <td>128</td>\n",
              "      <td>-999.0</td>\n",
              "    </tr>\n",
              "    <tr>\n",
              "      <th>1</th>\n",
              "      <td>2009</td>\n",
              "      <td>11</td>\n",
              "      <td>1</td>\n",
              "      <td>6</td>\n",
              "      <td>28.27</td>\n",
              "      <td>0.34</td>\n",
              "      <td>32.99</td>\n",
              "      <td>986.14</td>\n",
              "      <td>44.92</td>\n",
              "      <td>1593.0</td>\n",
              "      <td>128</td>\n",
              "      <td>-999.0</td>\n",
              "    </tr>\n",
              "    <tr>\n",
              "      <th>2</th>\n",
              "      <td>2009</td>\n",
              "      <td>11</td>\n",
              "      <td>1</td>\n",
              "      <td>9</td>\n",
              "      <td>29.79</td>\n",
              "      <td>0.54</td>\n",
              "      <td>109.73</td>\n",
              "      <td>983.80</td>\n",
              "      <td>33.97</td>\n",
              "      <td>1593.0</td>\n",
              "      <td>128</td>\n",
              "      <td>-999.0</td>\n",
              "    </tr>\n",
              "    <tr>\n",
              "      <th>3</th>\n",
              "      <td>2009</td>\n",
              "      <td>11</td>\n",
              "      <td>1</td>\n",
              "      <td>10</td>\n",
              "      <td>29.69</td>\n",
              "      <td>0.64</td>\n",
              "      <td>103.86</td>\n",
              "      <td>983.50</td>\n",
              "      <td>34.95</td>\n",
              "      <td>1593.0</td>\n",
              "      <td>128</td>\n",
              "      <td>-999.0</td>\n",
              "    </tr>\n",
              "    <tr>\n",
              "      <th>4</th>\n",
              "      <td>2009</td>\n",
              "      <td>11</td>\n",
              "      <td>1</td>\n",
              "      <td>11</td>\n",
              "      <td>27.39</td>\n",
              "      <td>0.05</td>\n",
              "      <td>358.99</td>\n",
              "      <td>983.70</td>\n",
              "      <td>56.94</td>\n",
              "      <td>1593.0</td>\n",
              "      <td>128</td>\n",
              "      <td>-999.0</td>\n",
              "    </tr>\n",
              "  </tbody>\n",
              "</table>\n",
              "</div>"
            ],
            "text/plain": [
              "   Year  Month  Day  Hour  air_temp  ...  pressure  humidity  rainfall  fog    AOD\n",
              "0  2009     11    1     3     19.38  ...    986.44     87.93    1593.0  128 -999.0\n",
              "1  2009     11    1     6     28.27  ...    986.14     44.92    1593.0  128 -999.0\n",
              "2  2009     11    1     9     29.79  ...    983.80     33.97    1593.0  128 -999.0\n",
              "3  2009     11    1    10     29.69  ...    983.50     34.95    1593.0  128 -999.0\n",
              "4  2009     11    1    11     27.39  ...    983.70     56.94    1593.0  128 -999.0\n",
              "\n",
              "[5 rows x 12 columns]"
            ]
          },
          "metadata": {},
          "execution_count": 3
        }
      ]
    },
    {
      "cell_type": "code",
      "metadata": {
        "id": "QQxpGqAw5-Px",
        "colab": {
          "base_uri": "https://localhost:8080/"
        },
        "outputId": "ae6835f7-6e0a-4231-dcb5-76f6360ae4a8"
      },
      "source": [
        "data.shape"
      ],
      "execution_count": null,
      "outputs": [
        {
          "output_type": "execute_result",
          "data": {
            "text/plain": [
              "(54151, 12)"
            ]
          },
          "metadata": {},
          "execution_count": 4
        }
      ]
    },
    {
      "cell_type": "code",
      "metadata": {
        "id": "qWoMZw4P5_3W",
        "colab": {
          "base_uri": "https://localhost:8080/"
        },
        "outputId": "7a3770d1-82cd-42e2-f0e7-8fcb634dd0d7"
      },
      "source": [
        "data.columns"
      ],
      "execution_count": null,
      "outputs": [
        {
          "output_type": "execute_result",
          "data": {
            "text/plain": [
              "Index(['Year', 'Month', 'Day', 'Hour', 'air_temp', 'windspeed', 'winddir',\n",
              "       'pressure', 'humidity', 'rainfall', 'fog', 'AOD'],\n",
              "      dtype='object')"
            ]
          },
          "metadata": {},
          "execution_count": 5
        }
      ]
    },
    {
      "cell_type": "code",
      "metadata": {
        "id": "KXPauQBc55fj",
        "colab": {
          "base_uri": "https://localhost:8080/"
        },
        "outputId": "4312efce-b671-435f-9662-9843ba17a70f"
      },
      "source": [
        "data.info()"
      ],
      "execution_count": null,
      "outputs": [
        {
          "output_type": "stream",
          "name": "stdout",
          "text": [
            "<class 'pandas.core.frame.DataFrame'>\n",
            "RangeIndex: 54151 entries, 0 to 54150\n",
            "Data columns (total 12 columns):\n",
            " #   Column     Non-Null Count  Dtype  \n",
            "---  ------     --------------  -----  \n",
            " 0   Year       54151 non-null  int64  \n",
            " 1   Month      54151 non-null  int64  \n",
            " 2   Day        54151 non-null  int64  \n",
            " 3   Hour       54151 non-null  int64  \n",
            " 4   air_temp   54151 non-null  float64\n",
            " 5   windspeed  54151 non-null  float64\n",
            " 6   winddir    54151 non-null  float64\n",
            " 7   pressure   54151 non-null  float64\n",
            " 8   humidity   54151 non-null  float64\n",
            " 9   rainfall   54151 non-null  float64\n",
            " 10  fog        54151 non-null  int64  \n",
            " 11  AOD        54151 non-null  float64\n",
            "dtypes: float64(7), int64(5)\n",
            "memory usage: 5.0 MB\n"
          ]
        }
      ]
    },
    {
      "cell_type": "code",
      "metadata": {
        "id": "617iJj5z59rj",
        "colab": {
          "base_uri": "https://localhost:8080/"
        },
        "outputId": "dda707a1-df98-43e5-a4de-a7199b82cf44"
      },
      "source": [
        "data.describe()"
      ],
      "execution_count": null,
      "outputs": [
        {
          "output_type": "execute_result",
          "data": {
            "text/html": [
              "<div>\n",
              "<style scoped>\n",
              "    .dataframe tbody tr th:only-of-type {\n",
              "        vertical-align: middle;\n",
              "    }\n",
              "\n",
              "    .dataframe tbody tr th {\n",
              "        vertical-align: top;\n",
              "    }\n",
              "\n",
              "    .dataframe thead th {\n",
              "        text-align: right;\n",
              "    }\n",
              "</style>\n",
              "<table border=\"1\" class=\"dataframe\">\n",
              "  <thead>\n",
              "    <tr style=\"text-align: right;\">\n",
              "      <th></th>\n",
              "      <th>Year</th>\n",
              "      <th>Month</th>\n",
              "      <th>Day</th>\n",
              "      <th>Hour</th>\n",
              "      <th>air_temp</th>\n",
              "      <th>windspeed</th>\n",
              "      <th>winddir</th>\n",
              "      <th>pressure</th>\n",
              "      <th>humidity</th>\n",
              "      <th>rainfall</th>\n",
              "      <th>fog</th>\n",
              "      <th>AOD</th>\n",
              "    </tr>\n",
              "  </thead>\n",
              "  <tbody>\n",
              "    <tr>\n",
              "      <th>count</th>\n",
              "      <td>54151.000000</td>\n",
              "      <td>54151.000000</td>\n",
              "      <td>54151.000000</td>\n",
              "      <td>54151.000000</td>\n",
              "      <td>54151.000000</td>\n",
              "      <td>54151.000000</td>\n",
              "      <td>54151.000000</td>\n",
              "      <td>54151.000000</td>\n",
              "      <td>54151.000000</td>\n",
              "      <td>54151.000000</td>\n",
              "      <td>54151.000000</td>\n",
              "      <td>54151.000000</td>\n",
              "    </tr>\n",
              "    <tr>\n",
              "      <th>mean</th>\n",
              "      <td>2014.969548</td>\n",
              "      <td>6.458976</td>\n",
              "      <td>15.663921</td>\n",
              "      <td>11.470074</td>\n",
              "      <td>42.122888</td>\n",
              "      <td>16.561199</td>\n",
              "      <td>518.406951</td>\n",
              "      <td>995.061132</td>\n",
              "      <td>83.477715</td>\n",
              "      <td>114.952751</td>\n",
              "      <td>101.466584</td>\n",
              "      <td>-926.451340</td>\n",
              "    </tr>\n",
              "    <tr>\n",
              "      <th>std</th>\n",
              "      <td>2.835375</td>\n",
              "      <td>3.494273</td>\n",
              "      <td>8.796899</td>\n",
              "      <td>6.919315</td>\n",
              "      <td>432.679167</td>\n",
              "      <td>402.696684</td>\n",
              "      <td>1480.708837</td>\n",
              "      <td>363.368471</td>\n",
              "      <td>398.554712</td>\n",
              "      <td>531.203843</td>\n",
              "      <td>51.873207</td>\n",
              "      <td>259.310628</td>\n",
              "    </tr>\n",
              "    <tr>\n",
              "      <th>min</th>\n",
              "      <td>2009.000000</td>\n",
              "      <td>1.000000</td>\n",
              "      <td>1.000000</td>\n",
              "      <td>0.000000</td>\n",
              "      <td>-40.000000</td>\n",
              "      <td>0.000000</td>\n",
              "      <td>0.000000</td>\n",
              "      <td>600.000000</td>\n",
              "      <td>0.000000</td>\n",
              "      <td>0.000000</td>\n",
              "      <td>0.000000</td>\n",
              "      <td>-999.000000</td>\n",
              "    </tr>\n",
              "    <tr>\n",
              "      <th>25%</th>\n",
              "      <td>2012.000000</td>\n",
              "      <td>3.000000</td>\n",
              "      <td>8.000000</td>\n",
              "      <td>5.000000</td>\n",
              "      <td>16.600000</td>\n",
              "      <td>0.000000</td>\n",
              "      <td>214.100000</td>\n",
              "      <td>974.900000</td>\n",
              "      <td>48.000000</td>\n",
              "      <td>0.000000</td>\n",
              "      <td>128.000000</td>\n",
              "      <td>-999.000000</td>\n",
              "    </tr>\n",
              "    <tr>\n",
              "      <th>50%</th>\n",
              "      <td>2016.000000</td>\n",
              "      <td>6.000000</td>\n",
              "      <td>16.000000</td>\n",
              "      <td>11.000000</td>\n",
              "      <td>25.100000</td>\n",
              "      <td>0.000000</td>\n",
              "      <td>359.000000</td>\n",
              "      <td>981.160000</td>\n",
              "      <td>71.000000</td>\n",
              "      <td>2.000000</td>\n",
              "      <td>128.000000</td>\n",
              "      <td>-999.000000</td>\n",
              "    </tr>\n",
              "    <tr>\n",
              "      <th>75%</th>\n",
              "      <td>2017.000000</td>\n",
              "      <td>10.000000</td>\n",
              "      <td>23.000000</td>\n",
              "      <td>17.000000</td>\n",
              "      <td>29.800000</td>\n",
              "      <td>0.500000</td>\n",
              "      <td>359.200000</td>\n",
              "      <td>986.900000</td>\n",
              "      <td>89.000000</td>\n",
              "      <td>20.000000</td>\n",
              "      <td>128.000000</td>\n",
              "      <td>-999.000000</td>\n",
              "    </tr>\n",
              "    <tr>\n",
              "      <th>max</th>\n",
              "      <td>2019.000000</td>\n",
              "      <td>12.000000</td>\n",
              "      <td>31.000000</td>\n",
              "      <td>28.000000</td>\n",
              "      <td>9999.900000</td>\n",
              "      <td>9999.900000</td>\n",
              "      <td>9999.900000</td>\n",
              "      <td>9999.900000</td>\n",
              "      <td>9999.900000</td>\n",
              "      <td>9999.900000</td>\n",
              "      <td>128.000000</td>\n",
              "      <td>3.813740</td>\n",
              "    </tr>\n",
              "  </tbody>\n",
              "</table>\n",
              "</div>"
            ],
            "text/plain": [
              "               Year         Month  ...           fog           AOD\n",
              "count  54151.000000  54151.000000  ...  54151.000000  54151.000000\n",
              "mean    2014.969548      6.458976  ...    101.466584   -926.451340\n",
              "std        2.835375      3.494273  ...     51.873207    259.310628\n",
              "min     2009.000000      1.000000  ...      0.000000   -999.000000\n",
              "25%     2012.000000      3.000000  ...    128.000000   -999.000000\n",
              "50%     2016.000000      6.000000  ...    128.000000   -999.000000\n",
              "75%     2017.000000     10.000000  ...    128.000000   -999.000000\n",
              "max     2019.000000     12.000000  ...    128.000000      3.813740\n",
              "\n",
              "[8 rows x 12 columns]"
            ]
          },
          "metadata": {},
          "execution_count": 7
        }
      ]
    },
    {
      "cell_type": "code",
      "metadata": {
        "id": "kk63EryM6HIh"
      },
      "source": [
        "#Dropping unnecessary columns\n",
        "data.drop(['fog','AOD'],axis=1,inplace=True)"
      ],
      "execution_count": null,
      "outputs": []
    },
    {
      "cell_type": "markdown",
      "metadata": {
        "id": "I2lkdffY5SYB"
      },
      "source": [
        "###Exploratory Data Analysis"
      ]
    },
    {
      "cell_type": "code",
      "metadata": {
        "id": "DC7ZXb6m5SYB"
      },
      "source": [
        "import plotly.express as px\n",
        "import matplotlib\n",
        "import matplotlib.pyplot as plt\n",
        "import seaborn as sns\n",
        "%matplotlib inline\n",
        "#Customize the graphs or plots\n",
        "sns.set_style('darkgrid')\n",
        "matplotlib.rcParams['font.size'] = 14\n",
        "matplotlib.rcParams['figure.figsize'] = (5,5)\n",
        "matplotlib.rcParams['figure.facecolor'] = '#00000000'"
      ],
      "execution_count": null,
      "outputs": []
    },
    {
      "cell_type": "markdown",
      "metadata": {
        "id": "ZoGsry1SXNyS"
      },
      "source": [
        "#### Detecting outliers"
      ]
    },
    {
      "cell_type": "markdown",
      "metadata": {
        "id": "T4FrnI_LzQWr"
      },
      "source": [
        "##### air_temp"
      ]
    },
    {
      "cell_type": "code",
      "metadata": {
        "colab": {
          "base_uri": "https://localhost:8080/",
          "height": 866
        },
        "id": "cgWY3ahqehgk",
        "outputId": "973fec80-d2bb-469f-d5b9-92503a22b31f"
      },
      "source": [
        "#Checking for outliers\n",
        "sns.boxplot(data['air_temp'])\n",
        "plt.title('Box plot before Outlier Treatment')\n",
        "plt.show()\n",
        "for i in data['air_temp']:\n",
        "  q1 = data['air_temp'].quantile(0.25)\n",
        "  q3 = data['air_temp'].quantile(0.75)\n",
        "  iqr = q3 - q1\n",
        "  lwr_bound = q1 - 1.5 * iqr\n",
        "  upr_bound = q3 + 1.5 * iqr\n",
        "  if i > upr_bound or i < lwr_bound:\n",
        "    data['air_temp'] = data['air_temp'].replace(i, 0) #zero\n",
        "sns.boxplot(data['air_temp'])\n",
        "plt.title('Box plot After Outlier Treatment')\n",
        "plt.show()"
      ],
      "execution_count": null,
      "outputs": [
        {
          "output_type": "stream",
          "name": "stderr",
          "text": [
            "/usr/local/lib/python3.7/dist-packages/seaborn/_decorators.py:43: FutureWarning:\n",
            "\n",
            "Pass the following variable as a keyword arg: x. From version 0.12, the only valid positional argument will be `data`, and passing other arguments without an explicit keyword will result in an error or misinterpretation.\n",
            "\n"
          ]
        },
        {
          "output_type": "display_data",
          "data": {
            "image/png": "[encoded data removed]",
            "text/plain": [
              "<Figure size 360x360 with 1 Axes>"
            ]
          },
          "metadata": {
            "needs_background": "light"
          }
        },
        {
          "output_type": "stream",
          "name": "stderr",
          "text": [
            "/usr/local/lib/python3.7/dist-packages/seaborn/_decorators.py:43: FutureWarning:\n",
            "\n",
            "Pass the following variable as a keyword arg: x. From version 0.12, the only valid positional argument will be `data`, and passing other arguments without an explicit keyword will result in an error or misinterpretation.\n",
            "\n"
          ]
        },
        {
          "output_type": "display_data",
          "data": {
            "image/png": "[encoded data removed]",
            "text/plain": [
              "<Figure size 360x360 with 1 Axes>"
            ]
          },
          "metadata": {
            "needs_background": "light"
          }
        }
      ]
    },
    {
      "cell_type": "markdown",
      "metadata": {
        "id": "c1GgCrbh1H58"
      },
      "source": [
        "##### humidity"
      ]
    },
    {
      "cell_type": "code",
      "metadata": {
        "colab": {
          "base_uri": "https://localhost:8080/",
          "height": 866
        },
        "id": "WRlKe84F4jNq",
        "outputId": "b74f64d9-4f80-4a91-d75f-6babe333644b"
      },
      "source": [
        "#Checking for outliers\n",
        "sns.boxplot(data['humidity'])\n",
        "plt.title('Box plot before Outlier Treatment')\n",
        "plt.show()\n",
        "for i in data['humidity']:\n",
        "  q1 = data['humidity'].quantile(0.25)\n",
        "  q3 = data['humidity'].quantile(0.75)\n",
        "  iqr = q3 - q1\n",
        "  lwr_bound = q1 - 1.5 * iqr\n",
        "  upr_bound = q3 + 1.5 * iqr\n",
        "  if i > upr_bound or i < lwr_bound:\n",
        "    data['humidity'] = data['humidity'].replace(i, 0) #zero\n",
        "sns.boxplot(data['humidity'])\n",
        "plt.title('Box plot After Outlier Treatment')\n",
        "plt.show()"
      ],
      "execution_count": null,
      "outputs": [
        {
          "output_type": "stream",
          "name": "stderr",
          "text": [
            "/usr/local/lib/python3.7/dist-packages/seaborn/_decorators.py:43: FutureWarning:\n",
            "\n",
            "Pass the following variable as a keyword arg: x. From version 0.12, the only valid positional argument will be `data`, and passing other arguments without an explicit keyword will result in an error or misinterpretation.\n",
            "\n"
          ]
        },
        {
          "output_type": "display_data",
          "data": {
            "image/png": "[encoded data removed]",
            "text/plain": [
              "<Figure size 360x360 with 1 Axes>"
            ]
          },
          "metadata": {
            "needs_background": "light"
          }
        },
        {
          "output_type": "stream",
          "name": "stderr",
          "text": [
            "/usr/local/lib/python3.7/dist-packages/seaborn/_decorators.py:43: FutureWarning:\n",
            "\n",
            "Pass the following variable as a keyword arg: x. From version 0.12, the only valid positional argument will be `data`, and passing other arguments without an explicit keyword will result in an error or misinterpretation.\n",
            "\n"
          ]
        },
        {
          "output_type": "display_data",
          "data": {
            "image/png": "[encoded data removed]",
            "text/plain": [
              "<Figure size 360x360 with 1 Axes>"
            ]
          },
          "metadata": {
            "needs_background": "light"
          }
        }
      ]
    },
    {
      "cell_type": "markdown",
      "metadata": {
        "id": "AnPw1QNu5vc2"
      },
      "source": [
        "### Splitting the data"
      ]
    },
    {
      "cell_type": "code",
      "metadata": {
        "id": "gUC3hkG06Vts",
        "colab": {
          "base_uri": "https://localhost:8080/"
        },
        "outputId": "731f8fb5-be8d-4d33-dfcb-b37c001d07ff"
      },
      "source": [
        "plt.title('No. of Rows per Year')\n",
        "sns.countplot(x = data.Year);"
      ],
      "execution_count": null,
      "outputs": [
        {
          "output_type": "display_data",
          "data": {
            "image/png": "[encoded data removed]",
            "text/plain": [
              "<Figure size 360x360 with 1 Axes>"
            ]
          },
          "metadata": {
            "needs_background": "light"
          }
        }
      ]
    },
    {
      "cell_type": "code",
      "metadata": {
        "id": "TdCCXHeL6Sv1",
        "colab": {
          "base_uri": "https://localhost:8080/"
        },
        "outputId": "732292c7-3c3e-4157-c260-66536ff7c2fa"
      },
      "source": [
        "#Splitting the data into train and test according to the \"Year\" column.\n",
        "train = data[data['Year']<2018].copy()\n",
        "train.tail()"
      ],
      "execution_count": null,
      "outputs": [
        {
          "output_type": "execute_result",
          "data": {
            "text/html": [
              "<div>\n",
              "<style scoped>\n",
              "    .dataframe tbody tr th:only-of-type {\n",
              "        vertical-align: middle;\n",
              "    }\n",
              "\n",
              "    .dataframe tbody tr th {\n",
              "        vertical-align: top;\n",
              "    }\n",
              "\n",
              "    .dataframe thead th {\n",
              "        text-align: right;\n",
              "    }\n",
              "</style>\n",
              "<table border=\"1\" class=\"dataframe\">\n",
              "  <thead>\n",
              "    <tr style=\"text-align: right;\">\n",
              "      <th></th>\n",
              "      <th>Year</th>\n",
              "      <th>Month</th>\n",
              "      <th>Day</th>\n",
              "      <th>Hour</th>\n",
              "      <th>air_temp</th>\n",
              "      <th>windspeed</th>\n",
              "      <th>winddir</th>\n",
              "      <th>pressure</th>\n",
              "      <th>humidity</th>\n",
              "      <th>rainfall</th>\n",
              "    </tr>\n",
              "  </thead>\n",
              "  <tbody>\n",
              "    <tr>\n",
              "      <th>42086</th>\n",
              "      <td>2017</td>\n",
              "      <td>9</td>\n",
              "      <td>25</td>\n",
              "      <td>5</td>\n",
              "      <td>28.9</td>\n",
              "      <td>0.0</td>\n",
              "      <td>359.2</td>\n",
              "      <td>981.3</td>\n",
              "      <td>77.0</td>\n",
              "      <td>2.0</td>\n",
              "    </tr>\n",
              "    <tr>\n",
              "      <th>42087</th>\n",
              "      <td>2017</td>\n",
              "      <td>9</td>\n",
              "      <td>25</td>\n",
              "      <td>6</td>\n",
              "      <td>30.5</td>\n",
              "      <td>0.0</td>\n",
              "      <td>359.2</td>\n",
              "      <td>980.8</td>\n",
              "      <td>70.0</td>\n",
              "      <td>2.0</td>\n",
              "    </tr>\n",
              "    <tr>\n",
              "      <th>42088</th>\n",
              "      <td>2017</td>\n",
              "      <td>9</td>\n",
              "      <td>25</td>\n",
              "      <td>7</td>\n",
              "      <td>31.2</td>\n",
              "      <td>0.0</td>\n",
              "      <td>359.2</td>\n",
              "      <td>979.9</td>\n",
              "      <td>64.0</td>\n",
              "      <td>2.0</td>\n",
              "    </tr>\n",
              "    <tr>\n",
              "      <th>42089</th>\n",
              "      <td>2017</td>\n",
              "      <td>9</td>\n",
              "      <td>25</td>\n",
              "      <td>8</td>\n",
              "      <td>32.3</td>\n",
              "      <td>0.0</td>\n",
              "      <td>359.2</td>\n",
              "      <td>979.5</td>\n",
              "      <td>65.0</td>\n",
              "      <td>2.0</td>\n",
              "    </tr>\n",
              "    <tr>\n",
              "      <th>42090</th>\n",
              "      <td>2017</td>\n",
              "      <td>9</td>\n",
              "      <td>25</td>\n",
              "      <td>9</td>\n",
              "      <td>32.4</td>\n",
              "      <td>0.0</td>\n",
              "      <td>359.2</td>\n",
              "      <td>978.8</td>\n",
              "      <td>62.0</td>\n",
              "      <td>4.0</td>\n",
              "    </tr>\n",
              "  </tbody>\n",
              "</table>\n",
              "</div>"
            ],
            "text/plain": [
              "       Year  Month  Day  Hour  ...  winddir  pressure  humidity  rainfall\n",
              "42086  2017      9   25     5  ...    359.2     981.3      77.0       2.0\n",
              "42087  2017      9   25     6  ...    359.2     980.8      70.0       2.0\n",
              "42088  2017      9   25     7  ...    359.2     979.9      64.0       2.0\n",
              "42089  2017      9   25     8  ...    359.2     979.5      65.0       2.0\n",
              "42090  2017      9   25     9  ...    359.2     978.8      62.0       4.0\n",
              "\n",
              "[5 rows x 10 columns]"
            ]
          },
          "metadata": {},
          "execution_count": 13
        }
      ]
    },
    {
      "cell_type": "code",
      "metadata": {
        "id": "pkNuCBujLAxO",
        "colab": {
          "base_uri": "https://localhost:8080/"
        },
        "outputId": "f39742f9-c349-4487-d927-73ab57cb0342"
      },
      "source": [
        "train['air_temp'].plot()"
      ],
      "execution_count": null,
      "outputs": [
        {
          "output_type": "execute_result",
          "data": {
            "text/plain": [
              "<matplotlib.axes._subplots.AxesSubplot at 0x7f783c908fd0>"
            ]
          },
          "metadata": {},
          "execution_count": 14
        },
        {
          "output_type": "display_data",
          "data": {
            "image/png": "[encoded data removed]",
            "text/plain": [
              "<Figure size 360x360 with 1 Axes>"
            ]
          },
          "metadata": {
            "needs_background": "light"
          }
        }
      ]
    },
    {
      "cell_type": "code",
      "metadata": {
        "id": "0jZBxp7u6toI",
        "colab": {
          "base_uri": "https://localhost:8080/"
        },
        "outputId": "b93e2745-8d82-40af-de91-32bfe164698c"
      },
      "source": [
        "test = data[data['Year']>=2018].copy()\n",
        "test.head()"
      ],
      "execution_count": null,
      "outputs": [
        {
          "output_type": "execute_result",
          "data": {
            "text/html": [
              "<div>\n",
              "<style scoped>\n",
              "    .dataframe tbody tr th:only-of-type {\n",
              "        vertical-align: middle;\n",
              "    }\n",
              "\n",
              "    .dataframe tbody tr th {\n",
              "        vertical-align: top;\n",
              "    }\n",
              "\n",
              "    .dataframe thead th {\n",
              "        text-align: right;\n",
              "    }\n",
              "</style>\n",
              "<table border=\"1\" class=\"dataframe\">\n",
              "  <thead>\n",
              "    <tr style=\"text-align: right;\">\n",
              "      <th></th>\n",
              "      <th>Year</th>\n",
              "      <th>Month</th>\n",
              "      <th>Day</th>\n",
              "      <th>Hour</th>\n",
              "      <th>air_temp</th>\n",
              "      <th>windspeed</th>\n",
              "      <th>winddir</th>\n",
              "      <th>pressure</th>\n",
              "      <th>humidity</th>\n",
              "      <th>rainfall</th>\n",
              "    </tr>\n",
              "  </thead>\n",
              "  <tbody>\n",
              "    <tr>\n",
              "      <th>42091</th>\n",
              "      <td>2018</td>\n",
              "      <td>1</td>\n",
              "      <td>11</td>\n",
              "      <td>10</td>\n",
              "      <td>0.0</td>\n",
              "      <td>0.0</td>\n",
              "      <td>359.2</td>\n",
              "      <td>925.0</td>\n",
              "      <td>0.0</td>\n",
              "      <td>0.0</td>\n",
              "    </tr>\n",
              "    <tr>\n",
              "      <th>42092</th>\n",
              "      <td>2018</td>\n",
              "      <td>1</td>\n",
              "      <td>11</td>\n",
              "      <td>11</td>\n",
              "      <td>0.0</td>\n",
              "      <td>0.0</td>\n",
              "      <td>359.2</td>\n",
              "      <td>925.0</td>\n",
              "      <td>0.0</td>\n",
              "      <td>0.0</td>\n",
              "    </tr>\n",
              "    <tr>\n",
              "      <th>42093</th>\n",
              "      <td>2018</td>\n",
              "      <td>1</td>\n",
              "      <td>11</td>\n",
              "      <td>12</td>\n",
              "      <td>0.0</td>\n",
              "      <td>0.0</td>\n",
              "      <td>359.2</td>\n",
              "      <td>925.0</td>\n",
              "      <td>0.0</td>\n",
              "      <td>0.0</td>\n",
              "    </tr>\n",
              "    <tr>\n",
              "      <th>42094</th>\n",
              "      <td>2018</td>\n",
              "      <td>1</td>\n",
              "      <td>11</td>\n",
              "      <td>13</td>\n",
              "      <td>0.0</td>\n",
              "      <td>0.0</td>\n",
              "      <td>359.2</td>\n",
              "      <td>925.0</td>\n",
              "      <td>0.0</td>\n",
              "      <td>0.0</td>\n",
              "    </tr>\n",
              "    <tr>\n",
              "      <th>42095</th>\n",
              "      <td>2018</td>\n",
              "      <td>1</td>\n",
              "      <td>11</td>\n",
              "      <td>14</td>\n",
              "      <td>0.0</td>\n",
              "      <td>0.0</td>\n",
              "      <td>359.2</td>\n",
              "      <td>925.0</td>\n",
              "      <td>0.0</td>\n",
              "      <td>0.0</td>\n",
              "    </tr>\n",
              "  </tbody>\n",
              "</table>\n",
              "</div>"
            ],
            "text/plain": [
              "       Year  Month  Day  Hour  ...  winddir  pressure  humidity  rainfall\n",
              "42091  2018      1   11    10  ...    359.2     925.0       0.0       0.0\n",
              "42092  2018      1   11    11  ...    359.2     925.0       0.0       0.0\n",
              "42093  2018      1   11    12  ...    359.2     925.0       0.0       0.0\n",
              "42094  2018      1   11    13  ...    359.2     925.0       0.0       0.0\n",
              "42095  2018      1   11    14  ...    359.2     925.0       0.0       0.0\n",
              "\n",
              "[5 rows x 10 columns]"
            ]
          },
          "metadata": {},
          "execution_count": 15
        }
      ]
    },
    {
      "cell_type": "code",
      "metadata": {
        "id": "QOmca6i4Kgar",
        "colab": {
          "base_uri": "https://localhost:8080/"
        },
        "outputId": "b595ab75-ce50-4127-8e61-e3122a123820"
      },
      "source": [
        "test['air_temp'].plot()"
      ],
      "execution_count": null,
      "outputs": [
        {
          "output_type": "execute_result",
          "data": {
            "text/plain": [
              "<matplotlib.axes._subplots.AxesSubplot at 0x7f783c890290>"
            ]
          },
          "metadata": {},
          "execution_count": 16
        },
        {
          "output_type": "display_data",
          "data": {
            "image/png": "[encoded data removed]",
            "text/plain": [
              "<Figure size 360x360 with 1 Axes>"
            ]
          },
          "metadata": {
            "needs_background": "light"
          }
        }
      ]
    },
    {
      "cell_type": "markdown",
      "metadata": {
        "id": "yNMNR5vF5AQD"
      },
      "source": [
        "\n",
        "\n",
        "```\n",
        "          X - min(X)\n",
        "X_new = ----------------\n",
        "         max(X) - min(X)\n",
        "```\n",
        "\n"
      ]
    },
    {
      "cell_type": "markdown",
      "metadata": {
        "id": "A6OYHPuU6z4I"
      },
      "source": [
        "###Scaling Numeric columns to range(0,1) \n",
        "\n",
        "- For standardizing/normalization of the input data\n",
        "\n"
      ]
    },
    {
      "cell_type": "code",
      "metadata": {
        "id": "NGkg_FbG66bv"
      },
      "source": [
        "from sklearn.preprocessing import MinMaxScaler"
      ],
      "execution_count": null,
      "outputs": []
    },
    {
      "cell_type": "code",
      "metadata": {
        "id": "hyycffKD7wch"
      },
      "source": [
        "scaler = MinMaxScaler()"
      ],
      "execution_count": null,
      "outputs": []
    },
    {
      "cell_type": "code",
      "metadata": {
        "id": "cKgdXSG-7-nh"
      },
      "source": [
        "train = scaler.fit_transform(train)"
      ],
      "execution_count": null,
      "outputs": []
    },
    {
      "cell_type": "code",
      "metadata": {
        "id": "8GtSiIgHLRoO",
        "colab": {
          "base_uri": "https://localhost:8080/"
        },
        "outputId": "fcd5c1b5-f617-4fb6-ac9c-ed759b00bf58"
      },
      "source": [
        "train"
      ],
      "execution_count": null,
      "outputs": [
        {
          "output_type": "execute_result",
          "data": {
            "text/plain": [
              "array([[0.00000000e+00, 9.09090909e-01, 0.00000000e+00, ...,\n",
              "        6.77032254e-03, 8.79308793e-03, 1.59301593e-01],\n",
              "       [0.00000000e+00, 9.09090909e-01, 0.00000000e+00, ...,\n",
              "        6.73726432e-03, 4.49204492e-03, 1.59301593e-01],\n",
              "       [0.00000000e+00, 9.09090909e-01, 0.00000000e+00, ...,\n",
              "        6.47941024e-03, 3.39703397e-03, 1.59301593e-01],\n",
              "       ...,\n",
              "       [1.00000000e+00, 7.27272727e-01, 8.00000000e-01, ...,\n",
              "        6.04965344e-03, 6.40006400e-03, 2.00002000e-04],\n",
              "       [1.00000000e+00, 7.27272727e-01, 8.00000000e-01, ...,\n",
              "        6.00557582e-03, 6.50006500e-03, 2.00002000e-04],\n",
              "       [1.00000000e+00, 7.27272727e-01, 8.00000000e-01, ...,\n",
              "        5.92843998e-03, 6.20006200e-03, 4.00004000e-04]])"
            ]
          },
          "metadata": {},
          "execution_count": 20
        }
      ]
    },
    {
      "cell_type": "markdown",
      "metadata": {
        "id": "afpB7sZN8O9m"
      },
      "source": [
        "###Dividing Train data into time shifts  \n",
        "- **_Lstm_** is good at memorizing previous data,we are provinding past data for each input in timeshifts.  \n",
        "- Suppose, we want to predict todays temperature, we need to know the past data to predict. so we are using 30 days of previous days data in order to make predict."
      ]
    },
    {
      "cell_type": "code",
      "metadata": {
        "id": "vg35mPpe8-oc"
      },
      "source": [
        "#Create two empty lists x_train and y_train\n",
        "X_train = []\n",
        "y_train = []"
      ],
      "execution_count": null,
      "outputs": []
    },
    {
      "cell_type": "markdown",
      "metadata": {
        "id": "7I1twprp-YWP"
      },
      "source": [
        "- For every target value we feed into out network, we need past 30 days data for that target value.\n",
        "- We are collecting the past 30 days of target value in \"**X_list**\" and the target value in \"**y_list**\".\n",
        "- so for all values it will take past 30 days values for each target value by iteration of the following loop."
      ]
    },
    {
      "cell_type": "code",
      "metadata": {
        "id": "Xr7bLBFe9mbb"
      },
      "source": [
        "for i in range(30, train.shape[0]):\n",
        "  X_train.append(train[i-30:i])\n",
        "  y_train.append(train[i,4])"
      ],
      "execution_count": null,
      "outputs": []
    },
    {
      "cell_type": "code",
      "metadata": {
        "id": "32Z8QxOs9sXz"
      },
      "source": [
        "#Converting Lists into numpy arrays\n",
        "X_train , y_train = np.array(X_train) , np.array(y_train)"
      ],
      "execution_count": null,
      "outputs": []
    },
    {
      "cell_type": "code",
      "metadata": {
        "id": "YXFx2ve39zNa",
        "colab": {
          "base_uri": "https://localhost:8080/"
        },
        "outputId": "5d5ae5c7-cb6c-42fe-f10d-a6225dd2869b"
      },
      "source": [
        "X_train.shape, y_train.shape"
      ],
      "execution_count": null,
      "outputs": [
        {
          "output_type": "execute_result",
          "data": {
            "text/plain": [
              "((42061, 30, 10), (42061,))"
            ]
          },
          "metadata": {},
          "execution_count": 24
        }
      ]
    },
    {
      "cell_type": "markdown",
      "metadata": {
        "id": "98IGMOVY95ah"
      },
      "source": [
        "###LSTM - Stacked Long Short-Term Memory Networks\n"
      ]
    },
    {
      "cell_type": "markdown",
      "metadata": {
        "id": "yA3bbQ9bCC6r"
      },
      "source": [
        "An overview of the LSTM model life-cycle in Keras.\n",
        "\n",
        "1. Define Network\n",
        "2. Compile Network\n",
        "3. Fit Network\n",
        "4. Evaluate Network\n",
        "5. Make Predictions"
      ]
    },
    {
      "cell_type": "code",
      "metadata": {
        "id": "gbu0jfWa98om"
      },
      "source": [
        "#Import libraries\n",
        "import tensorflow.keras as keras\n",
        "from tensorflow.keras import Sequential\n",
        "from tensorflow.keras.layers import LSTM,Dense,Dropout"
      ],
      "execution_count": null,
      "outputs": []
    },
    {
      "cell_type": "code",
      "metadata": {
        "id": "VCN4D0sW_rQ0"
      },
      "source": [
        "# sequential() -->Time Series data are sequential data\n",
        "model = Sequential()"
      ],
      "execution_count": null,
      "outputs": []
    },
    {
      "cell_type": "code",
      "metadata": {
        "id": "_Lxlo0wA_ulO",
        "colab": {
          "base_uri": "https://localhost:8080/"
        },
        "outputId": "9d2703f7-310a-4a86-b156-fd71b0149b63"
      },
      "source": [
        "X_train.shape[1],10"
      ],
      "execution_count": null,
      "outputs": [
        {
          "output_type": "execute_result",
          "data": {
            "text/plain": [
              "(30, 10)"
            ]
          },
          "metadata": {},
          "execution_count": 27
        }
      ]
    },
    {
      "cell_type": "markdown",
      "metadata": {
        "id": "UnfnD9wP_5au"
      },
      "source": [
        "###1.Define Network\n",
        "\n"
      ]
    },
    {
      "cell_type": "code",
      "metadata": {
        "id": "k_H2ODIy_93X"
      },
      "source": [
        "model.add(LSTM(100 , return_sequences= True , activation='relu', input_shape = (X_train.shape[1],10) , kernel_regularizer= keras.regularizers.l2(0.001))) \n",
        "\n",
        "model.add(Dropout(0.3)) # Add a dropout layer in order to avoid overfitting.\n",
        "\n",
        "model.add(LSTM(100, return_sequences= True)) # Hidden layer,Another Lstm layer for stacked Lstm method.\n",
        "\n",
        "model.add(Dropout(0.3))\n",
        "\n",
        "model.add(LSTM(100))\n",
        "\n",
        "# final Output layer.\n",
        "model.add(Dense(1))"
      ],
      "execution_count": null,
      "outputs": []
    },
    {
      "cell_type": "markdown",
      "metadata": {
        "id": "npkxJGngA_J3"
      },
      "source": [
        "- **_Dense Layer:_**  The dense layer is a fully connected layer, which means all the neurons in a layer are connected to those in the next layer\n",
        "- **_Dropout:_** In the dropout technique, some of the neurons in hidden or visible layers are dropped or omitted randomly. Dropout technique regularizes the neural network model to produce a robust model which does not overfit."
      ]
    },
    {
      "cell_type": "code",
      "metadata": {
        "id": "J8SL8ISOBpKM",
        "colab": {
          "base_uri": "https://localhost:8080/"
        },
        "outputId": "730743ea-5d1c-4320-b997-fa5d287247e8"
      },
      "source": [
        "# printing the model summary or the Architecture.\n",
        "model.summary()"
      ],
      "execution_count": null,
      "outputs": [
        {
          "output_type": "stream",
          "name": "stdout",
          "text": [
            "Model: \"sequential\"\n",
            "_________________________________________________________________\n",
            "Layer (type)                 Output Shape              Param #   \n",
            "=================================================================\n",
            "lstm (LSTM)                  (None, 30, 100)           44400     \n",
            "_________________________________________________________________\n",
            "dropout (Dropout)            (None, 30, 100)           0         \n",
            "_________________________________________________________________\n",
            "lstm_1 (LSTM)                (None, 30, 100)           80400     \n",
            "_________________________________________________________________\n",
            "dropout_1 (Dropout)          (None, 30, 100)           0         \n",
            "_________________________________________________________________\n",
            "lstm_2 (LSTM)                (None, 100)               80400     \n",
            "_________________________________________________________________\n",
            "dense (Dense)                (None, 1)                 101       \n",
            "=================================================================\n",
            "Total params: 205,301\n",
            "Trainable params: 205,301\n",
            "Non-trainable params: 0\n",
            "_________________________________________________________________\n"
          ]
        }
      ]
    },
    {
      "cell_type": "markdown",
      "metadata": {
        "id": "dEVap3b7CbOc"
      },
      "source": [
        "###2.Compile Network\n",
        "Compilation is an efficiency step. It transforms the simple sequence of layers that we defined into a highly efficient series of matrix transforms in a format intended to be executed on your GPU or CPU, depending on how Keras is configured."
      ]
    },
    {
      "cell_type": "markdown",
      "metadata": {
        "id": "sBa_DAcWHhVi"
      },
      "source": [
        "**Loss Function:**  \n",
        "some standard loss functions for different predictive model types:\n",
        "\n",
        "1. Regression:  Mean Squared Error or ‘mean_squared_error’.\n",
        "2. Binary Classification (2 class):  Logarithmic Loss, also called cross entropy or ‘binary_crossentropy‘.\n",
        "3. Multiclass Classification (>2 class):  Multiclass Logarithmic Loss or ‘categorical_crossentropy‘."
      ]
    },
    {
      "cell_type": "markdown",
      "metadata": {
        "id": "_he94nPuH0BP"
      },
      "source": [
        "**Optimizer:**  \n",
        "Most commonly used optimization algorithms because of their generally better performance are:\n",
        "\n",
        "1. Stochastic Gradient Descent -- SGD or ‘sgd‘, that requires the tuning of a learning rate and momentum.\n",
        "2. Adaptive moment estimation -- ADAM, or ‘adam‘, that requires the tuning of learning rate.\n",
        "3. Root Mean Squared Propagation -- RMSprop, or ‘rmsprop‘, that requires the tuning of learning rate.\n"
      ]
    },
    {
      "cell_type": "markdown",
      "metadata": {
        "id": "esa1g4z4Ks1_"
      },
      "source": [
        "**Metric for Regression models**  \n",
        "Below is a list of the metrics that you can use in Keras on regression problems.\n",
        "\n",
        "1. Mean Squared Error: mean_squared_error, MSE or 'mse'\n",
        "2. Mean Absolute Error: mean_absolute_error, MAE, 'mae'\n",
        "3. Mean Absolute Percentage Error: mean_absolute_percentage_error, MAPE, 'mape'\n",
        "4. Cosine Proximity: cosine_proximity, 'cosine'"
      ]
    },
    {
      "cell_type": "code",
      "metadata": {
        "id": "HzGw-nH5B07r"
      },
      "source": [
        "model.compile(optimizer='adamax', loss='mse',  metrics=['mse','mae', 'mape'])\n",
        "#model.compile(optimizer='adam', loss='mse',  metrics=['mse','mae', 'mape'])"
      ],
      "execution_count": null,
      "outputs": []
    },
    {
      "cell_type": "code",
      "metadata": {
        "id": "CetuccyMb4Tb"
      },
      "source": [
        "#model.compile(optimizer='sgd', loss='mse',  metrics=['mse','mae', 'mape'])\n",
        "#model.compile(optimizer='rmsprop', loss='mse',  metrics=['mse','mae', 'mape'])"
      ],
      "execution_count": null,
      "outputs": []
    },
    {
      "cell_type": "markdown",
      "metadata": {
        "id": "7YZ727e1Cyja"
      },
      "source": [
        "###3. Fit Network"
      ]
    },
    {
      "cell_type": "code",
      "metadata": {
        "id": "BefM-5GlC2cn",
        "colab": {
          "base_uri": "https://localhost:8080/"
        },
        "outputId": "62199ced-0609-4215-970b-b920c64d3a3f"
      },
      "source": [
        "# fitting the model with train data\n",
        "history = model.fit(X_train,y_train , epochs=12 , batch_size=32)"
      ],
      "execution_count": null,
      "outputs": [
        {
          "output_type": "stream",
          "name": "stdout",
          "text": [
            "Epoch 1/12\n",
            "1315/1315 [==============================] - 111s 81ms/step - loss: 0.0078 - mse: 0.0058 - mae: 0.0544 - mape: 747174.3125\n",
            "Epoch 2/12\n",
            "1315/1315 [==============================] - 106s 81ms/step - loss: 0.0037 - mse: 0.0031 - mae: 0.0405 - mape: 769766.6250\n",
            "Epoch 3/12\n",
            "1315/1315 [==============================] - 106s 81ms/step - loss: 0.0030 - mse: 0.0026 - mae: 0.0359 - mape: 718643.7500\n",
            "Epoch 4/12\n",
            "1315/1315 [==============================] - 107s 81ms/step - loss: 0.0026 - mse: 0.0022 - mae: 0.0327 - mape: 714016.5000\n",
            "Epoch 5/12\n",
            "1315/1315 [==============================] - 107s 81ms/step - loss: 0.0024 - mse: 0.0021 - mae: 0.0312 - mape: 732511.8750\n",
            "Epoch 6/12\n",
            "1315/1315 [==============================] - 107s 81ms/step - loss: 0.0023 - mse: 0.0019 - mae: 0.0300 - mape: 722402.8750\n",
            "Epoch 7/12\n",
            "1315/1315 [==============================] - 107s 81ms/step - loss: 0.0022 - mse: 0.0019 - mae: 0.0294 - mape: 709118.3750\n",
            "Epoch 8/12\n",
            "1315/1315 [==============================] - 106s 81ms/step - loss: 0.0021 - mse: 0.0018 - mae: 0.0285 - mape: 724690.8750\n",
            "Epoch 9/12\n",
            "1315/1315 [==============================] - 106s 81ms/step - loss: 0.0020 - mse: 0.0017 - mae: 0.0280 - mape: 690395.6250\n",
            "Epoch 10/12\n",
            "1315/1315 [==============================] - 106s 81ms/step - loss: 0.0020 - mse: 0.0017 - mae: 0.0271 - mape: 722125.7500\n",
            "Epoch 11/12\n",
            "1315/1315 [==============================] - 107s 81ms/step - loss: 0.0019 - mse: 0.0017 - mae: 0.0269 - mape: 704050.6250\n",
            "Epoch 12/12\n",
            "1315/1315 [==============================] - 107s 81ms/step - loss: 0.0019 - mse: 0.0016 - mae: 0.0266 - mape: 689680.0625\n"
          ]
        }
      ]
    },
    {
      "cell_type": "code",
      "metadata": {
        "id": "zh9ctwnkDxXt",
        "colab": {
          "base_uri": "https://localhost:8080/",
          "height": 341
        },
        "outputId": "532216b2-d891-4bc5-90d0-5305d6365fde"
      },
      "source": [
        "# plotting the loss value of each epoch\n",
        "plt.plot(history.history['loss'])"
      ],
      "execution_count": null,
      "outputs": [
        {
          "output_type": "execute_result",
          "data": {
            "text/plain": [
              "[<matplotlib.lines.Line2D at 0x7f77f23aedd0>]"
            ]
          },
          "metadata": {},
          "execution_count": 33
        },
        {
          "output_type": "display_data",
          "data": {
            "image/png": "[encoded data removed]",
            "text/plain": [
              "<Figure size 360x360 with 1 Axes>"
            ]
          },
          "metadata": {
            "needs_background": "light"
          }
        }
      ]
    },
    {
      "cell_type": "markdown",
      "metadata": {
        "id": "wOdcnvqnFWMG"
      },
      "source": [
        "###4. Evaluate Network"
      ]
    },
    {
      "cell_type": "code",
      "metadata": {
        "id": "XXyNerpxJHix",
        "colab": {
          "base_uri": "https://localhost:8080/"
        },
        "outputId": "2de9cae2-3c5d-45ef-ca8b-6a4e9503253b"
      },
      "source": [
        "loss = model.evaluate(X_train, y_train)"
      ],
      "execution_count": null,
      "outputs": [
        {
          "output_type": "stream",
          "name": "stdout",
          "text": [
            "1315/1315 [==============================] - 32s 24ms/step - loss: 0.0013 - mse: 0.0011 - mae: 0.0185 - mape: 598756.4375\n"
          ]
        }
      ]
    },
    {
      "cell_type": "code",
      "metadata": {
        "id": "53B5yjhIUMSM",
        "colab": {
          "base_uri": "https://localhost:8080/"
        },
        "outputId": "b9ef1907-e688-4647-8f25-cf80db9ed6ab"
      },
      "source": [
        "print(loss)"
      ],
      "execution_count": null,
      "outputs": [
        {
          "output_type": "stream",
          "name": "stdout",
          "text": [
            "[0.0013382441829890013, 0.0010945205576717854, 0.018482575193047523, 598756.4375]\n"
          ]
        }
      ]
    },
    {
      "cell_type": "markdown",
      "metadata": {
        "id": "d36Vk9JepeHv"
      },
      "source": [
        "The network can be evaluated on the training data, but this will not provide a useful indication of the performance of the network as a predictive model, as it has seen all of this data before.  \n",
        "We can evaluate the performance of the network on a separate dataset, unseen during testing. This will provide an estimate of the performance of the network at making predictions for unseen data in the future."
      ]
    },
    {
      "cell_type": "markdown",
      "metadata": {
        "id": "8LyyMJCzFmP8"
      },
      "source": [
        "###5. Making Predictions"
      ]
    },
    {
      "cell_type": "markdown",
      "metadata": {
        "id": "5BDF2vomD4nD"
      },
      "source": [
        "**Preprocessing the Test Dataset**"
      ]
    },
    {
      "cell_type": "markdown",
      "metadata": {
        "id": "icOWVoguEBUU"
      },
      "source": [
        "- We collect last 30 days data from train dataset"
      ]
    },
    {
      "cell_type": "code",
      "metadata": {
        "id": "QroJNZ_wD87C",
        "colab": {
          "base_uri": "https://localhost:8080/"
        },
        "outputId": "650556a1-1c78-41e9-9bf1-c36a4c32800b"
      },
      "source": [
        "last_30_days = data[data['Year']<2018].tail(30).copy()\n",
        "last_30_days.tail()"
      ],
      "execution_count": null,
      "outputs": [
        {
          "output_type": "execute_result",
          "data": {
            "text/html": [
              "<div>\n",
              "<style scoped>\n",
              "    .dataframe tbody tr th:only-of-type {\n",
              "        vertical-align: middle;\n",
              "    }\n",
              "\n",
              "    .dataframe tbody tr th {\n",
              "        vertical-align: top;\n",
              "    }\n",
              "\n",
              "    .dataframe thead th {\n",
              "        text-align: right;\n",
              "    }\n",
              "</style>\n",
              "<table border=\"1\" class=\"dataframe\">\n",
              "  <thead>\n",
              "    <tr style=\"text-align: right;\">\n",
              "      <th></th>\n",
              "      <th>Year</th>\n",
              "      <th>Month</th>\n",
              "      <th>Day</th>\n",
              "      <th>Hour</th>\n",
              "      <th>air_temp</th>\n",
              "      <th>windspeed</th>\n",
              "      <th>winddir</th>\n",
              "      <th>pressure</th>\n",
              "      <th>humidity</th>\n",
              "      <th>rainfall</th>\n",
              "    </tr>\n",
              "  </thead>\n",
              "  <tbody>\n",
              "    <tr>\n",
              "      <th>42086</th>\n",
              "      <td>2017</td>\n",
              "      <td>9</td>\n",
              "      <td>25</td>\n",
              "      <td>5</td>\n",
              "      <td>28.9</td>\n",
              "      <td>0.0</td>\n",
              "      <td>359.2</td>\n",
              "      <td>981.3</td>\n",
              "      <td>77.0</td>\n",
              "      <td>2.0</td>\n",
              "    </tr>\n",
              "    <tr>\n",
              "      <th>42087</th>\n",
              "      <td>2017</td>\n",
              "      <td>9</td>\n",
              "      <td>25</td>\n",
              "      <td>6</td>\n",
              "      <td>30.5</td>\n",
              "      <td>0.0</td>\n",
              "      <td>359.2</td>\n",
              "      <td>980.8</td>\n",
              "      <td>70.0</td>\n",
              "      <td>2.0</td>\n",
              "    </tr>\n",
              "    <tr>\n",
              "      <th>42088</th>\n",
              "      <td>2017</td>\n",
              "      <td>9</td>\n",
              "      <td>25</td>\n",
              "      <td>7</td>\n",
              "      <td>31.2</td>\n",
              "      <td>0.0</td>\n",
              "      <td>359.2</td>\n",
              "      <td>979.9</td>\n",
              "      <td>64.0</td>\n",
              "      <td>2.0</td>\n",
              "    </tr>\n",
              "    <tr>\n",
              "      <th>42089</th>\n",
              "      <td>2017</td>\n",
              "      <td>9</td>\n",
              "      <td>25</td>\n",
              "      <td>8</td>\n",
              "      <td>32.3</td>\n",
              "      <td>0.0</td>\n",
              "      <td>359.2</td>\n",
              "      <td>979.5</td>\n",
              "      <td>65.0</td>\n",
              "      <td>2.0</td>\n",
              "    </tr>\n",
              "    <tr>\n",
              "      <th>42090</th>\n",
              "      <td>2017</td>\n",
              "      <td>9</td>\n",
              "      <td>25</td>\n",
              "      <td>9</td>\n",
              "      <td>32.4</td>\n",
              "      <td>0.0</td>\n",
              "      <td>359.2</td>\n",
              "      <td>978.8</td>\n",
              "      <td>62.0</td>\n",
              "      <td>4.0</td>\n",
              "    </tr>\n",
              "  </tbody>\n",
              "</table>\n",
              "</div>"
            ],
            "text/plain": [
              "       Year  Month  Day  Hour  ...  winddir  pressure  humidity  rainfall\n",
              "42086  2017      9   25     5  ...    359.2     981.3      77.0       2.0\n",
              "42087  2017      9   25     6  ...    359.2     980.8      70.0       2.0\n",
              "42088  2017      9   25     7  ...    359.2     979.9      64.0       2.0\n",
              "42089  2017      9   25     8  ...    359.2     979.5      65.0       2.0\n",
              "42090  2017      9   25     9  ...    359.2     978.8      62.0       4.0\n",
              "\n",
              "[5 rows x 10 columns]"
            ]
          },
          "metadata": {},
          "execution_count": 36
        }
      ]
    },
    {
      "cell_type": "code",
      "metadata": {
        "id": "iq1WOFhAEGOE",
        "colab": {
          "base_uri": "https://localhost:8080/"
        },
        "outputId": "d13c4df7-1623-4257-a64c-a21c160babed"
      },
      "source": [
        "test.head()"
      ],
      "execution_count": null,
      "outputs": [
        {
          "output_type": "execute_result",
          "data": {
            "text/html": [
              "<div>\n",
              "<style scoped>\n",
              "    .dataframe tbody tr th:only-of-type {\n",
              "        vertical-align: middle;\n",
              "    }\n",
              "\n",
              "    .dataframe tbody tr th {\n",
              "        vertical-align: top;\n",
              "    }\n",
              "\n",
              "    .dataframe thead th {\n",
              "        text-align: right;\n",
              "    }\n",
              "</style>\n",
              "<table border=\"1\" class=\"dataframe\">\n",
              "  <thead>\n",
              "    <tr style=\"text-align: right;\">\n",
              "      <th></th>\n",
              "      <th>Year</th>\n",
              "      <th>Month</th>\n",
              "      <th>Day</th>\n",
              "      <th>Hour</th>\n",
              "      <th>air_temp</th>\n",
              "      <th>windspeed</th>\n",
              "      <th>winddir</th>\n",
              "      <th>pressure</th>\n",
              "      <th>humidity</th>\n",
              "      <th>rainfall</th>\n",
              "    </tr>\n",
              "  </thead>\n",
              "  <tbody>\n",
              "    <tr>\n",
              "      <th>42091</th>\n",
              "      <td>2018</td>\n",
              "      <td>1</td>\n",
              "      <td>11</td>\n",
              "      <td>10</td>\n",
              "      <td>0.0</td>\n",
              "      <td>0.0</td>\n",
              "      <td>359.2</td>\n",
              "      <td>925.0</td>\n",
              "      <td>0.0</td>\n",
              "      <td>0.0</td>\n",
              "    </tr>\n",
              "    <tr>\n",
              "      <th>42092</th>\n",
              "      <td>2018</td>\n",
              "      <td>1</td>\n",
              "      <td>11</td>\n",
              "      <td>11</td>\n",
              "      <td>0.0</td>\n",
              "      <td>0.0</td>\n",
              "      <td>359.2</td>\n",
              "      <td>925.0</td>\n",
              "      <td>0.0</td>\n",
              "      <td>0.0</td>\n",
              "    </tr>\n",
              "    <tr>\n",
              "      <th>42093</th>\n",
              "      <td>2018</td>\n",
              "      <td>1</td>\n",
              "      <td>11</td>\n",
              "      <td>12</td>\n",
              "      <td>0.0</td>\n",
              "      <td>0.0</td>\n",
              "      <td>359.2</td>\n",
              "      <td>925.0</td>\n",
              "      <td>0.0</td>\n",
              "      <td>0.0</td>\n",
              "    </tr>\n",
              "    <tr>\n",
              "      <th>42094</th>\n",
              "      <td>2018</td>\n",
              "      <td>1</td>\n",
              "      <td>11</td>\n",
              "      <td>13</td>\n",
              "      <td>0.0</td>\n",
              "      <td>0.0</td>\n",
              "      <td>359.2</td>\n",
              "      <td>925.0</td>\n",
              "      <td>0.0</td>\n",
              "      <td>0.0</td>\n",
              "    </tr>\n",
              "    <tr>\n",
              "      <th>42095</th>\n",
              "      <td>2018</td>\n",
              "      <td>1</td>\n",
              "      <td>11</td>\n",
              "      <td>14</td>\n",
              "      <td>0.0</td>\n",
              "      <td>0.0</td>\n",
              "      <td>359.2</td>\n",
              "      <td>925.0</td>\n",
              "      <td>0.0</td>\n",
              "      <td>0.0</td>\n",
              "    </tr>\n",
              "  </tbody>\n",
              "</table>\n",
              "</div>"
            ],
            "text/plain": [
              "       Year  Month  Day  Hour  ...  winddir  pressure  humidity  rainfall\n",
              "42091  2018      1   11    10  ...    359.2     925.0       0.0       0.0\n",
              "42092  2018      1   11    11  ...    359.2     925.0       0.0       0.0\n",
              "42093  2018      1   11    12  ...    359.2     925.0       0.0       0.0\n",
              "42094  2018      1   11    13  ...    359.2     925.0       0.0       0.0\n",
              "42095  2018      1   11    14  ...    359.2     925.0       0.0       0.0\n",
              "\n",
              "[5 rows x 10 columns]"
            ]
          },
          "metadata": {},
          "execution_count": 37
        }
      ]
    },
    {
      "cell_type": "code",
      "metadata": {
        "id": "20yMYrU9EKVq",
        "colab": {
          "base_uri": "https://localhost:8080/"
        },
        "outputId": "0292191e-55d5-4c6c-9710-5d54206b416d"
      },
      "source": [
        "#Adding last 30 days of train data and test data.\n",
        "test_final = last_30_days.append(test, ignore_index=True)\n",
        "test_final.head()"
      ],
      "execution_count": null,
      "outputs": [
        {
          "output_type": "execute_result",
          "data": {
            "text/html": [
              "<div>\n",
              "<style scoped>\n",
              "    .dataframe tbody tr th:only-of-type {\n",
              "        vertical-align: middle;\n",
              "    }\n",
              "\n",
              "    .dataframe tbody tr th {\n",
              "        vertical-align: top;\n",
              "    }\n",
              "\n",
              "    .dataframe thead th {\n",
              "        text-align: right;\n",
              "    }\n",
              "</style>\n",
              "<table border=\"1\" class=\"dataframe\">\n",
              "  <thead>\n",
              "    <tr style=\"text-align: right;\">\n",
              "      <th></th>\n",
              "      <th>Year</th>\n",
              "      <th>Month</th>\n",
              "      <th>Day</th>\n",
              "      <th>Hour</th>\n",
              "      <th>air_temp</th>\n",
              "      <th>windspeed</th>\n",
              "      <th>winddir</th>\n",
              "      <th>pressure</th>\n",
              "      <th>humidity</th>\n",
              "      <th>rainfall</th>\n",
              "    </tr>\n",
              "  </thead>\n",
              "  <tbody>\n",
              "    <tr>\n",
              "      <th>0</th>\n",
              "      <td>2017</td>\n",
              "      <td>9</td>\n",
              "      <td>24</td>\n",
              "      <td>4</td>\n",
              "      <td>23.8</td>\n",
              "      <td>0.0</td>\n",
              "      <td>359.2</td>\n",
              "      <td>983.2</td>\n",
              "      <td>100.0</td>\n",
              "      <td>2.0</td>\n",
              "    </tr>\n",
              "    <tr>\n",
              "      <th>1</th>\n",
              "      <td>2017</td>\n",
              "      <td>9</td>\n",
              "      <td>24</td>\n",
              "      <td>5</td>\n",
              "      <td>24.6</td>\n",
              "      <td>0.0</td>\n",
              "      <td>359.2</td>\n",
              "      <td>983.4</td>\n",
              "      <td>100.0</td>\n",
              "      <td>2.0</td>\n",
              "    </tr>\n",
              "    <tr>\n",
              "      <th>2</th>\n",
              "      <td>2017</td>\n",
              "      <td>9</td>\n",
              "      <td>24</td>\n",
              "      <td>6</td>\n",
              "      <td>25.5</td>\n",
              "      <td>0.0</td>\n",
              "      <td>359.2</td>\n",
              "      <td>983.2</td>\n",
              "      <td>99.0</td>\n",
              "      <td>2.0</td>\n",
              "    </tr>\n",
              "    <tr>\n",
              "      <th>3</th>\n",
              "      <td>2017</td>\n",
              "      <td>9</td>\n",
              "      <td>24</td>\n",
              "      <td>7</td>\n",
              "      <td>26.9</td>\n",
              "      <td>0.0</td>\n",
              "      <td>359.2</td>\n",
              "      <td>982.6</td>\n",
              "      <td>95.0</td>\n",
              "      <td>2.0</td>\n",
              "    </tr>\n",
              "    <tr>\n",
              "      <th>4</th>\n",
              "      <td>2017</td>\n",
              "      <td>9</td>\n",
              "      <td>24</td>\n",
              "      <td>8</td>\n",
              "      <td>27.6</td>\n",
              "      <td>0.0</td>\n",
              "      <td>359.2</td>\n",
              "      <td>981.9</td>\n",
              "      <td>91.0</td>\n",
              "      <td>2.0</td>\n",
              "    </tr>\n",
              "  </tbody>\n",
              "</table>\n",
              "</div>"
            ],
            "text/plain": [
              "   Year  Month  Day  Hour  ...  winddir  pressure  humidity  rainfall\n",
              "0  2017      9   24     4  ...    359.2     983.2     100.0       2.0\n",
              "1  2017      9   24     5  ...    359.2     983.4     100.0       2.0\n",
              "2  2017      9   24     6  ...    359.2     983.2      99.0       2.0\n",
              "3  2017      9   24     7  ...    359.2     982.6      95.0       2.0\n",
              "4  2017      9   24     8  ...    359.2     981.9      91.0       2.0\n",
              "\n",
              "[5 rows x 10 columns]"
            ]
          },
          "metadata": {},
          "execution_count": 38
        }
      ]
    },
    {
      "cell_type": "code",
      "metadata": {
        "id": "teSpFvcqEREq",
        "colab": {
          "base_uri": "https://localhost:8080/"
        },
        "outputId": "47198d56-fb6c-40cf-cd1b-57b930086288"
      },
      "source": [
        "#Scaling columns in the final test data.\n",
        "test_final = scaler.fit_transform(test_final)\n",
        "test_final"
      ],
      "execution_count": null,
      "outputs": [
        {
          "output_type": "execute_result",
          "data": {
            "text/plain": [
              "array([[0.        , 0.72727273, 0.76666667, ..., 0.96523929, 1.        ,\n",
              "        0.01360544],\n",
              "       [0.        , 0.72727273, 0.76666667, ..., 0.96574307, 1.        ,\n",
              "        0.01360544],\n",
              "       [0.        , 0.72727273, 0.76666667, ..., 0.96523929, 0.99      ,\n",
              "        0.01360544],\n",
              "       ...,\n",
              "       [1.        , 0.63636364, 0.93333333, ..., 0.95264484, 1.        ,\n",
              "        1.        ],\n",
              "       [1.        , 0.63636364, 0.93333333, ..., 0.95088161, 1.        ,\n",
              "        1.        ],\n",
              "       [1.        , 0.63636364, 0.93333333, ..., 0.94785894, 1.        ,\n",
              "        1.        ]])"
            ]
          },
          "metadata": {},
          "execution_count": 39
        }
      ]
    },
    {
      "cell_type": "code",
      "metadata": {
        "id": "CvzL81iIET85"
      },
      "source": [
        "#Creating two empty lists X_test and y_test\n",
        "X_test = []\n",
        "y_test = []"
      ],
      "execution_count": null,
      "outputs": []
    },
    {
      "cell_type": "markdown",
      "metadata": {
        "id": "V-xpXaaXExvr"
      },
      "source": [
        "- As we collect 30 days past data for every target value in the train dataset, similarly for all values in test data  it will take past 30 days values for each target value."
      ]
    },
    {
      "cell_type": "code",
      "metadata": {
        "id": "1s-wJz5NEgKG"
      },
      "source": [
        "for i in range(30, test_final.shape[0]):\n",
        "  X_test.append(test_final[i-30:i])\n",
        "  y_test.append(test_final[i,4])"
      ],
      "execution_count": null,
      "outputs": []
    },
    {
      "cell_type": "code",
      "metadata": {
        "id": "DPF3tiWfFEOE"
      },
      "source": [
        "# converting into array.\n",
        "X_test , y_test = np.array(X_test) , np.array(y_test)"
      ],
      "execution_count": null,
      "outputs": []
    },
    {
      "cell_type": "code",
      "metadata": {
        "id": "9ZkdufZuFN9v",
        "colab": {
          "base_uri": "https://localhost:8080/"
        },
        "outputId": "603508f7-051b-45df-ae78-f789292ea1df"
      },
      "source": [
        "X_test.shape , y_test.shape"
      ],
      "execution_count": null,
      "outputs": [
        {
          "output_type": "execute_result",
          "data": {
            "text/plain": [
              "((12060, 30, 10), (12060,))"
            ]
          },
          "metadata": {},
          "execution_count": 43
        }
      ]
    },
    {
      "cell_type": "markdown",
      "metadata": {
        "id": "yg-Fv9VpGLuv"
      },
      "source": [
        "***`Predicting on test data`***\n",
        "\n",
        "\n",
        "\n"
      ]
    },
    {
      "cell_type": "code",
      "metadata": {
        "id": "R-VP5UoCGQxZ"
      },
      "source": [
        "y_preds = model.predict(X_test)"
      ],
      "execution_count": null,
      "outputs": []
    },
    {
      "cell_type": "code",
      "metadata": {
        "id": "YdDweXohJPdI",
        "colab": {
          "base_uri": "https://localhost:8080/"
        },
        "outputId": "6dfbbc5f-7c55-4007-bdb4-adeeed732b1f"
      },
      "source": [
        "print('1st predicted value: ',y_preds[0])\n",
        "print('1st original value: ', y_test[0])"
      ],
      "execution_count": null,
      "outputs": [
        {
          "output_type": "stream",
          "name": "stdout",
          "text": [
            "1st predicted value:  [0.604719]\n",
            "1st original value:  0.0\n"
          ]
        }
      ]
    },
    {
      "cell_type": "code",
      "metadata": {
        "id": "j-ebDBRjJRsi",
        "colab": {
          "base_uri": "https://localhost:8080/"
        },
        "outputId": "c8af1735-aa31-486e-a176-57c43e68c180"
      },
      "source": [
        "# getting the coeffs of scaler for each column\n",
        "scaler.scale_"
      ],
      "execution_count": null,
      "outputs": [
        {
          "output_type": "execute_result",
          "data": {
            "text/plain": [
              "array([0.5       , 0.09090909, 0.03333333, 0.04347826, 0.02136752,\n",
              "       0.16949153, 0.00278396, 0.00251889, 0.01      , 0.00680272])"
            ]
          },
          "metadata": {},
          "execution_count": 46
        }
      ]
    },
    {
      "cell_type": "code",
      "metadata": {
        "id": "E1OVdvepUDaQ"
      },
      "source": [
        "# inversing the value\n",
        "scale = 1/scaler.scale_[0]"
      ],
      "execution_count": null,
      "outputs": []
    },
    {
      "cell_type": "code",
      "metadata": {
        "id": "T4kSlQjDJUEQ"
      },
      "source": [
        "# inverse scaling to get original values.\n",
        "y_preds = y_preds*scale\n",
        "y_test = y_test*scale"
      ],
      "execution_count": null,
      "outputs": []
    },
    {
      "cell_type": "code",
      "metadata": {
        "id": "KZKi0V9gJc7x",
        "colab": {
          "base_uri": "https://localhost:8080/"
        },
        "outputId": "0ac5c222-c03e-4ca5-bddb-c844719bc0f5"
      },
      "source": [
        "print('predicted value: ',y_preds[150])\n",
        "print('original value: ', y_test[150])"
      ],
      "execution_count": null,
      "outputs": [
        {
          "output_type": "stream",
          "name": "stdout",
          "text": [
            "predicted value:  [0.52454066]\n",
            "original value:  0.5213675213675214\n"
          ]
        }
      ]
    },
    {
      "cell_type": "markdown",
      "metadata": {
        "id": "OGF13VGHzH1V"
      },
      "source": [
        "###Evaluating the loss on test data"
      ]
    },
    {
      "cell_type": "code",
      "metadata": {
        "id": "xmQSnhg2zPgn",
        "colab": {
          "base_uri": "https://localhost:8080/"
        },
        "outputId": "150197fd-229c-4028-9918-bd66817db859"
      },
      "source": [
        "loss = model.evaluate(X_test, y_test)"
      ],
      "execution_count": null,
      "outputs": [
        {
          "output_type": "stream",
          "name": "stdout",
          "text": [
            "377/377 [==============================] - 9s 24ms/step - loss: 0.3623 - mse: 0.3621 - mae: 0.5597 - mape: 1159524.0000\n"
          ]
        }
      ]
    },
    {
      "cell_type": "code",
      "metadata": {
        "id": "XTSWa46izSwd",
        "colab": {
          "base_uri": "https://localhost:8080/"
        },
        "outputId": "b0080eea-5794-4b0a-e83e-b2e9b0a34453"
      },
      "source": [
        "print(loss)"
      ],
      "execution_count": null,
      "outputs": [
        {
          "output_type": "stream",
          "name": "stdout",
          "text": [
            "[0.36231669783592224, 0.36207300424575806, 0.5596630573272705, 1159524.0]\n"
          ]
        }
      ]
    },
    {
      "cell_type": "markdown",
      "metadata": {
        "id": "70RbjHVRJirs"
      },
      "source": [
        "###Visualizing the result"
      ]
    },
    {
      "cell_type": "code",
      "metadata": {
        "id": "R7ECta45JlOo",
        "colab": {
          "base_uri": "https://localhost:8080/"
        },
        "outputId": "ba956359-9c64-45ad-c3c5-92178a9386af"
      },
      "source": [
        "# for finding the rmse formodel.compile(optimizer='adamax', loss='mse',  metrics=['mse','mae', 'mape'])\n",
        "from sklearn.metrics import mean_squared_error\n",
        "from math import sqrt\n",
        "rmse = np.sqrt(mean_squared_error(y_test, y_preds))\n",
        "print(rmse)"
      ],
      "execution_count": null,
      "outputs": [
        {
          "output_type": "stream",
          "name": "stdout",
          "text": [
            "0.1197272847825759\n"
          ]
        }
      ]
    },
    {
      "cell_type": "code",
      "metadata": {
        "id": "mTd1ZFN8JoI9",
        "colab": {
          "base_uri": "https://localhost:8080/",
          "height": 525
        },
        "outputId": "324bc448-acab-4fc3-a7b2-5a60877c55d8"
      },
      "source": [
        "# plotting the original Vs Predicted values graphically.\n",
        "plt.figure(figsize=(16,8))\n",
        "plt.title('Original vs predicted(optimizer = Adamax')\n",
        "plt.xlabel('Over the data')\n",
        "plt.ylabel('Temperature(air_temp)')\n",
        "plt.plot(y_test)\n",
        "plt.plot(y_preds)\n",
        "plt.legend(['Original','Predicted'])\n",
        "plt.show()"
      ],
      "execution_count": null,
      "outputs": [
        {
          "output_type": "display_data",
          "data": {
            "image/png": "[encoded data removed]",
            "text/plain": [
              "<Figure size 1152x576 with 1 Axes>"
            ]
          },
          "metadata": {
            "needs_background": "light"
          }
        }
      ]
    },
    {
      "cell_type": "markdown",
      "metadata": {
        "id": "68Tm-HGeBvlu"
      },
      "source": [
        "###Summary"
      ]
    },
    {
      "cell_type": "code",
      "metadata": {
        "id": "mJiwwleYxXY4"
      },
      "source": [
        "adamax_rmse = 0.07551006692661409\n",
        "sgd_rmse = 0.17402287014681553    \n",
        "adam_rmse = 0.07733108661133752\n",
        "Rmsprop_rmse = 0.11112806005510606"
      ],
      "execution_count": null,
      "outputs": []
    },
    {
      "cell_type": "markdown",
      "metadata": {
        "id": "ml24Us3fXdQo"
      },
      "source": [
        "##### median imputation\n",
        "adamax = 0.138352   \n",
        "adam = 0.133740"
      ]
    },
    {
      "cell_type": "markdown",
      "metadata": {
        "id": "cNFLUTmNXqHg"
      },
      "source": [
        "#### zero imputation\n",
        "adamax = 0.09788810767988587  \n",
        "adam =  0.1197272847825759"
      ]
    },
    {
      "cell_type": "code",
      "metadata": {
        "id": "ityqGQCqxtjO"
      },
      "source": [
        "rmse = pd.DataFrame({\n",
        "    'Optimizers': ['Adamax','SGD','Adam','Rmsprop'],\n",
        "    'Rmse' : [adamax_rmse,sgd_rmse,adam_rmse,Rmsprop_rmse],\n",
        "})"
      ],
      "execution_count": null,
      "outputs": []
    },
    {
      "cell_type": "code",
      "metadata": {
        "id": "D-kvTAM8yRxS",
        "colab": {
          "base_uri": "https://localhost:8080/",
          "height": 175
        },
        "outputId": "50fb11db-41bc-406e-e730-2126a307c358"
      },
      "source": [
        "rmse"
      ],
      "execution_count": null,
      "outputs": [
        {
          "output_type": "execute_result",
          "data": {
            "text/html": [
              "<div>\n",
              "<style scoped>\n",
              "    .dataframe tbody tr th:only-of-type {\n",
              "        vertical-align: middle;\n",
              "    }\n",
              "\n",
              "    .dataframe tbody tr th {\n",
              "        vertical-align: top;\n",
              "    }\n",
              "\n",
              "    .dataframe thead th {\n",
              "        text-align: right;\n",
              "    }\n",
              "</style>\n",
              "<table border=\"1\" class=\"dataframe\">\n",
              "  <thead>\n",
              "    <tr style=\"text-align: right;\">\n",
              "      <th></th>\n",
              "      <th>Optimizers</th>\n",
              "      <th>Rmse</th>\n",
              "    </tr>\n",
              "  </thead>\n",
              "  <tbody>\n",
              "    <tr>\n",
              "      <th>0</th>\n",
              "      <td>Adamax</td>\n",
              "      <td>0.075510</td>\n",
              "    </tr>\n",
              "    <tr>\n",
              "      <th>1</th>\n",
              "      <td>SGD</td>\n",
              "      <td>0.174023</td>\n",
              "    </tr>\n",
              "    <tr>\n",
              "      <th>2</th>\n",
              "      <td>Adam</td>\n",
              "      <td>0.077331</td>\n",
              "    </tr>\n",
              "    <tr>\n",
              "      <th>3</th>\n",
              "      <td>Rmsprop</td>\n",
              "      <td>0.111128</td>\n",
              "    </tr>\n",
              "  </tbody>\n",
              "</table>\n",
              "</div>"
            ],
            "text/plain": [
              "  Optimizers      Rmse\n",
              "0     Adamax  0.075510\n",
              "1        SGD  0.174023\n",
              "2       Adam  0.077331\n",
              "3    Rmsprop  0.111128"
            ]
          },
          "metadata": {},
          "execution_count": 56
        }
      ]
    }
  ]
}